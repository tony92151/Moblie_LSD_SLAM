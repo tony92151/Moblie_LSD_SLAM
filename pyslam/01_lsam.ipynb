{
 "cells": [
  {
   "cell_type": "code",
   "execution_count": 8,
   "metadata": {},
   "outputs": [
    {
     "ename": "ImportError",
     "evalue": "dlopen(/Users/tonyguo/anaconda3/envs/slam/lib/python3.6/site-packages/pcl/_pcl.cpython-36m-darwin.so, 2): Library not loaded: @rpath/libpcl_visualization.1.8.dylib\n  Referenced from: /Users/tonyguo/anaconda3/envs/slam/lib/python3.6/site-packages/pcl/_pcl.cpython-36m-darwin.so\n  Reason: image not found",
     "output_type": "error",
     "traceback": [
      "\u001b[0;31m---------------------------------------------------------------------------\u001b[0m",
      "\u001b[0;31mImportError\u001b[0m                               Traceback (most recent call last)",
      "\u001b[0;32m<ipython-input-8-1e2e5cb12ae8>\u001b[0m in \u001b[0;36m<module>\u001b[0;34m\u001b[0m\n\u001b[0;32m----> 1\u001b[0;31m \u001b[0;32mimport\u001b[0m \u001b[0mpcl\u001b[0m\u001b[0;34m\u001b[0m\u001b[0;34m\u001b[0m\u001b[0m\n\u001b[0m",
      "\u001b[0;32m~/anaconda3/envs/slam/lib/python3.6/site-packages/pcl/__init__.py\u001b[0m in \u001b[0;36m<module>\u001b[0;34m\u001b[0m\n\u001b[1;32m      1\u001b[0m \u001b[0;31m# XXX do a more specific import!\u001b[0m\u001b[0;34m\u001b[0m\u001b[0;34m\u001b[0m\u001b[0;34m\u001b[0m\u001b[0m\n\u001b[0;32m----> 2\u001b[0;31m \u001b[0;32mfrom\u001b[0m \u001b[0;34m.\u001b[0m\u001b[0m_pcl\u001b[0m \u001b[0;32mimport\u001b[0m \u001b[0;34m*\u001b[0m\u001b[0;34m\u001b[0m\u001b[0;34m\u001b[0m\u001b[0m\n\u001b[0m\u001b[1;32m      3\u001b[0m \u001b[0;31m# vtkSmartPointer.h error (Linux)\u001b[0m\u001b[0;34m\u001b[0m\u001b[0;34m\u001b[0m\u001b[0;34m\u001b[0m\u001b[0m\n\u001b[1;32m      4\u001b[0m \u001b[0;31m# from .pcl_visualization import *\u001b[0m\u001b[0;34m\u001b[0m\u001b[0;34m\u001b[0m\u001b[0;34m\u001b[0m\u001b[0m\n\u001b[1;32m      5\u001b[0m \u001b[0;31m# from .pcl_grabber import *\u001b[0m\u001b[0;34m\u001b[0m\u001b[0;34m\u001b[0m\u001b[0;34m\u001b[0m\u001b[0m\n",
      "\u001b[0;31mImportError\u001b[0m: dlopen(/Users/tonyguo/anaconda3/envs/slam/lib/python3.6/site-packages/pcl/_pcl.cpython-36m-darwin.so, 2): Library not loaded: @rpath/libpcl_visualization.1.8.dylib\n  Referenced from: /Users/tonyguo/anaconda3/envs/slam/lib/python3.6/site-packages/pcl/_pcl.cpython-36m-darwin.so\n  Reason: image not found"
     ]
    }
   ],
   "source": [
    "import pcl"
   ]
  },
  {
   "cell_type": "code",
   "execution_count": 9,
   "metadata": {},
   "outputs": [
    {
     "ename": "ImportError",
     "evalue": "dlopen(/Users/tonyguo/anaconda3/envs/slam/lib/python3.6/site-packages/pcl/_pcl.cpython-36m-darwin.so, 2): Library not loaded: @rpath/libpcl_visualization.1.8.dylib\n  Referenced from: /Users/tonyguo/anaconda3/envs/slam/lib/python3.6/site-packages/pcl/_pcl.cpython-36m-darwin.so\n  Reason: image not found",
     "output_type": "error",
     "traceback": [
      "\u001b[0;31m---------------------------------------------------------------------------\u001b[0m",
      "\u001b[0;31mImportError\u001b[0m                               Traceback (most recent call last)",
      "\u001b[0;32m<ipython-input-9-aae6f0e7ad9a>\u001b[0m in \u001b[0;36m<module>\u001b[0;34m\u001b[0m\n\u001b[1;32m      1\u001b[0m \u001b[0;32mimport\u001b[0m \u001b[0mnumpy\u001b[0m \u001b[0;32mas\u001b[0m \u001b[0mnp\u001b[0m\u001b[0;34m\u001b[0m\u001b[0;34m\u001b[0m\u001b[0m\n\u001b[0;32m----> 2\u001b[0;31m \u001b[0;32mimport\u001b[0m \u001b[0mpcl\u001b[0m\u001b[0;34m\u001b[0m\u001b[0;34m\u001b[0m\u001b[0m\n\u001b[0m\u001b[1;32m      3\u001b[0m \u001b[0;32mimport\u001b[0m \u001b[0mrandom\u001b[0m\u001b[0;34m\u001b[0m\u001b[0;34m\u001b[0m\u001b[0m\n\u001b[1;32m      4\u001b[0m \u001b[0;34m\u001b[0m\u001b[0m\n\u001b[1;32m      5\u001b[0m \u001b[0;32mimport\u001b[0m \u001b[0mpcl\u001b[0m\u001b[0;34m.\u001b[0m\u001b[0mpcl_visualization\u001b[0m\u001b[0;34m\u001b[0m\u001b[0;34m\u001b[0m\u001b[0m\n",
      "\u001b[0;32m~/anaconda3/envs/slam/lib/python3.6/site-packages/pcl/__init__.py\u001b[0m in \u001b[0;36m<module>\u001b[0;34m\u001b[0m\n\u001b[1;32m      1\u001b[0m \u001b[0;31m# XXX do a more specific import!\u001b[0m\u001b[0;34m\u001b[0m\u001b[0;34m\u001b[0m\u001b[0;34m\u001b[0m\u001b[0m\n\u001b[0;32m----> 2\u001b[0;31m \u001b[0;32mfrom\u001b[0m \u001b[0;34m.\u001b[0m\u001b[0m_pcl\u001b[0m \u001b[0;32mimport\u001b[0m \u001b[0;34m*\u001b[0m\u001b[0;34m\u001b[0m\u001b[0;34m\u001b[0m\u001b[0m\n\u001b[0m\u001b[1;32m      3\u001b[0m \u001b[0;31m# vtkSmartPointer.h error (Linux)\u001b[0m\u001b[0;34m\u001b[0m\u001b[0;34m\u001b[0m\u001b[0;34m\u001b[0m\u001b[0m\n\u001b[1;32m      4\u001b[0m \u001b[0;31m# from .pcl_visualization import *\u001b[0m\u001b[0;34m\u001b[0m\u001b[0;34m\u001b[0m\u001b[0;34m\u001b[0m\u001b[0m\n\u001b[1;32m      5\u001b[0m \u001b[0;31m# from .pcl_grabber import *\u001b[0m\u001b[0;34m\u001b[0m\u001b[0;34m\u001b[0m\u001b[0;34m\u001b[0m\u001b[0m\n",
      "\u001b[0;31mImportError\u001b[0m: dlopen(/Users/tonyguo/anaconda3/envs/slam/lib/python3.6/site-packages/pcl/_pcl.cpython-36m-darwin.so, 2): Library not loaded: @rpath/libpcl_visualization.1.8.dylib\n  Referenced from: /Users/tonyguo/anaconda3/envs/slam/lib/python3.6/site-packages/pcl/_pcl.cpython-36m-darwin.so\n  Reason: image not found"
     ]
    }
   ],
   "source": [
    "import numpy as np\n",
    "import pcl\n",
    "import random\n",
    "\n",
    "import pcl.pcl_visualization\n",
    "\n",
    "\n",
    "def main():\n",
    "    # pcl::PointCloud<pcl::PointXYZRGB> cloud;\n",
    "    cloud = pcl.PointCloud_PointXYZRGB()\n",
    "\n",
    "    # Fill in the cloud data\n",
    "    # cloud.width  = 15;\n",
    "    # cloud.height = 10;\n",
    "    # cloud.points.resize (cloud.width * cloud.height)\n",
    "    # cloud.resize (np.array([15, 10], dtype=np.float))\n",
    "    # points = np.zeros((10, 15, 4), dtype=np.float32)\n",
    "    points = np.zeros((150, 4), dtype=np.float32)\n",
    "    RAND_MAX = 1.0\n",
    "    # Generate the data\n",
    "    for i in range(0, 75):\n",
    "        # set Point Plane\n",
    "        points[i][0] = 1024 * random.random() / (RAND_MAX + 1.0)\n",
    "        points[i][1] = 1024 * random.random() / (RAND_MAX + 1.0)\n",
    "        points[i][2] = 0.1 * random.random() / (RAND_MAX + 1.0)\n",
    "        points[i][3] = 255 << 16 | 255 << 8 | 255\n",
    "\n",
    "    for i in range(75, 150):\n",
    "        # set Point Randomize\n",
    "        points[i][0] = 1024 * random.random() / (RAND_MAX + 1.0)\n",
    "        points[i][1] = 1024 * random.random() / (RAND_MAX + 1.0)\n",
    "        points[i][2] = 1024 * random.random() / (RAND_MAX + 1.0)\n",
    "        points[i][3] = 255 << 16 | 255 << 8 | 255\n",
    "\n",
    "    # Set a few outliers\n",
    "    points[0][2] = 2.0\n",
    "    points[3][2] = -2.0\n",
    "    points[6][2] = 4.0\n",
    "\n",
    "    print(cloud)\n",
    "\n",
    "    for i in range(0, 150):\n",
    "        print(points[i][0], points[i][1], points[i][2], points[i][3])\n",
    "\n",
    "    cloud.from_array(points)\n",
    "\n",
    "    # Create the segmentation object\n",
    "    # pcl::SACSegmentation<pcl::PointXYZRGB> seg\n",
    "    seg = cloud.make_segmenter()\n",
    "    # Optional\n",
    "    seg.set_optimize_coefficients(True)\n",
    "    # Mandatory\n",
    "    seg.set_model_type(pcl.SACMODEL_PLANE)\n",
    "    seg.set_method_type(pcl.SAC_RANSAC)\n",
    "    seg.set_distance_threshold(0.1)\n",
    "\n",
    "    # pcl::ModelCoefficients::Ptr coefficients (new pcl::ModelCoefficients)\n",
    "    # pcl::PointIndices::Ptr inliers (new pcl::PointIndices);\n",
    "    inliers, model = seg.segment()\n",
    "\n",
    "    # if inliers.size\n",
    "    #   return\n",
    "    # end\n",
    "\n",
    "    print(model)\n",
    "    # std::cerr << \"Model coefficients: \" << coefficients->values[0] << \" \"\n",
    "    # << coefficients->values[1] << \" \"\n",
    "    # << coefficients->values[2] << \" \"\n",
    "    # << coefficients->values[3] << std::endl;\n",
    "    #\n",
    "    # std::cerr << \"Model inliers: \" << inliers->indices.size () << std::endl;\n",
    "    # for (size_t i = 0; i < inliers->indices.size (); ++i)\n",
    "    # {\n",
    "    #   std::cerr << inliers->indices[i] << \"    \" << cloud.points[inliers->indices[i]].x << \" \"\n",
    "    #   << cloud.points[inliers->indices[i]].y << \" \"\n",
    "    #   << cloud.points[inliers->indices[i]].z << std::endl;\n",
    "    #   cloud.points[inliers->indices[i]].r = 255;\n",
    "    #   cloud.points[inliers->indices[i]].g = 0;\n",
    "    #   cloud.points[inliers->indices[i]].b = 0;\n",
    "    # }\n",
    "    for i in inliers:\n",
    "        points[i][3] = 255 << 16 | 255 << 8 | 0\n",
    "\n",
    "    cloud.from_array(points)\n",
    "\n",
    "    #\n",
    "    # pcl::visualization::CloudViewer viewer(\"Cloud Viewer\");\n",
    "    # viewer.showCloud(cloud.makeShared());\n",
    "    # while (!viewer.wasStopped ())\n",
    "    visual = pcl.pcl_visualization.CloudViewing()\n",
    "    visual.ShowColorCloud(cloud)\n",
    "\n",
    "    v = True\n",
    "    while v:\n",
    "        v = not(visual.WasStopped())\n",
    "\n",
    "\n",
    "if __name__ == \"__main__\":\n",
    "    # import cProfile\n",
    "    # cProfile.run('main()', sort='time')\n",
    "    main()"
   ]
  },
  {
   "cell_type": "code",
   "execution_count": null,
   "metadata": {},
   "outputs": [],
   "source": []
  },
  {
   "cell_type": "code",
   "execution_count": null,
   "metadata": {},
   "outputs": [],
   "source": []
  },
  {
   "cell_type": "code",
   "execution_count": null,
   "metadata": {},
   "outputs": [],
   "source": []
  }
 ],
 "metadata": {
  "kernelspec": {
   "display_name": "Python 3",
   "language": "python",
   "name": "python3"
  },
  "language_info": {
   "codemirror_mode": {
    "name": "ipython",
    "version": 3
   },
   "file_extension": ".py",
   "mimetype": "text/x-python",
   "name": "python",
   "nbconvert_exporter": "python",
   "pygments_lexer": "ipython3",
   "version": "3.6.8"
  }
 },
 "nbformat": 4,
 "nbformat_minor": 2
}
