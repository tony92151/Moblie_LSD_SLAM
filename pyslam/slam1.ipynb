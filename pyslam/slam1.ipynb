{
 "cells": [
  {
   "cell_type": "markdown",
   "metadata": {},
   "source": [
    "### Reference\n",
    "\n",
    "https://blog.csdn.net/u010128736/article/details/53079964"
   ]
  },
  {
   "cell_type": "code",
   "execution_count": 58,
   "metadata": {},
   "outputs": [],
   "source": [
    "import os\n",
    "import cv2\n",
    "import numpy as np\n",
    "import sys"
   ]
  },
  {
   "cell_type": "code",
   "execution_count": 59,
   "metadata": {},
   "outputs": [
    {
     "data": {
      "text/plain": [
       "'/home/parallels/Documents/Moblie_LSD_SLAM/pyslam'"
      ]
     },
     "execution_count": 59,
     "metadata": {},
     "output_type": "execute_result"
    }
   ],
   "source": [
    "thisPath = os.getcwd()\n",
    "thisPath"
   ]
  },
  {
   "cell_type": "code",
   "execution_count": 60,
   "metadata": {},
   "outputs": [
    {
     "name": "stdout",
     "output_type": "stream",
     "text": [
      "Folder existed!\n"
     ]
    }
   ],
   "source": [
    "try:\n",
    "    os.mkdir(\"img\")\n",
    "except:\n",
    "    print(\"Folder existed!\")"
   ]
  },
  {
   "cell_type": "code",
   "execution_count": 61,
   "metadata": {},
   "outputs": [],
   "source": [
    "videoCapture = cv2.VideoCapture('src/mj2.mov')"
   ]
  },
  {
   "cell_type": "code",
   "execution_count": 62,
   "metadata": {},
   "outputs": [
    {
     "name": "stdout",
     "output_type": "stream",
     "text": [
      "This video is 28.095238095238095 FPS\n"
     ]
    }
   ],
   "source": [
    "fps = videoCapture.get(cv2.CAP_PROP_FPS)\n",
    "print(\"This video is\" ,fps, \"FPS\" )"
   ]
  },
  {
   "cell_type": "code",
   "execution_count": 63,
   "metadata": {},
   "outputs": [],
   "source": [
    "size = (int(videoCapture.get(cv2.CAP_PROP_FRAME_WIDTH)),\n",
    "        int(videoCapture.get(cv2.CAP_PROP_FRAME_HEIGHT)))"
   ]
  },
  {
   "cell_type": "code",
   "execution_count": 64,
   "metadata": {},
   "outputs": [
    {
     "name": "stdout",
     "output_type": "stream",
     "text": [
      "Success transfer video to images.\n"
     ]
    }
   ],
   "source": [
    "success, frame = videoCapture.read()\n",
    "idx = 1\n",
    "while success:\n",
    "    cv2.imshow(\"Show\", frame)\n",
    "    cv2.waitKey(int(1000/int(fps)))\n",
    "    cv2.imwrite(thisPath+'/img/'+str(idx).zfill(3)+'.png',frame)\n",
    "    success, frame = videoCapture.read()\n",
    "    #print(\"Frame \",idx)\n",
    "    #print(\"succ \",success)\n",
    "    idx = idx + 1\n",
    "\n",
    "cv2.destroyAllWindows()\n",
    "print(\"Success transfer video to images.\")"
   ]
  },
  {
   "cell_type": "code",
   "execution_count": 39,
   "metadata": {},
   "outputs": [],
   "source": []
  },
  {
   "cell_type": "code",
   "execution_count": null,
   "metadata": {},
   "outputs": [],
   "source": []
  },
  {
   "cell_type": "code",
   "execution_count": null,
   "metadata": {},
   "outputs": [],
   "source": []
  }
 ],
 "metadata": {
  "kernelspec": {
   "display_name": "spa",
   "language": "python",
   "name": "spa"
  },
  "language_info": {
   "codemirror_mode": {
    "name": "ipython",
    "version": 3
   },
   "file_extension": ".py",
   "mimetype": "text/x-python",
   "name": "python",
   "nbconvert_exporter": "python",
   "pygments_lexer": "ipython3",
   "version": "3.5.2"
  }
 },
 "nbformat": 4,
 "nbformat_minor": 4
}
